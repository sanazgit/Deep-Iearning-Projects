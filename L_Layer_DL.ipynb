{
  "nbformat": 4,
  "nbformat_minor": 0,
  "metadata": {
    "colab": {
      "name": "L_Layer DL.ipynb",
      "provenance": [],
      "authorship_tag": "ABX9TyMAq3UAfkji999Jau5baxH6",
      "include_colab_link": true
    },
    "kernelspec": {
      "name": "python3",
      "display_name": "Python 3"
    },
    "language_info": {
      "name": "python"
    }
  },
  "cells": [
    {
      "cell_type": "markdown",
      "metadata": {
        "id": "view-in-github",
        "colab_type": "text"
      },
      "source": [
        "<a href=\"https://colab.research.google.com/github/sanazgit/Deep-Iearning-Projects/blob/main/L_Layer_DL.ipynb\" target=\"_parent\"><img src=\"https://colab.research.google.com/assets/colab-badge.svg\" alt=\"Open In Colab\"/></a>"
      ]
    },
    {
      "cell_type": "markdown",
      "source": [
        "# **Implementing a flexible Neural Network**"
      ],
      "metadata": {
        "id": "U8yirnuf59Z9"
      }
    },
    {
      "cell_type": "markdown",
      "source": [
        "In order for our implementation to be called flexible, we should be able to add/remove layers without changing the code. "
      ],
      "metadata": {
        "id": "UHSWU4DV6i9P"
      }
    },
    {
      "cell_type": "code",
      "metadata": {
        "colab": {
          "base_uri": "https://localhost:8080/"
        },
        "id": "MM4ani_uZxa6",
        "outputId": "33dc8d44-39c3-459e-c04f-522fdfb0a0e0"
      },
      "source": [
        "from google.colab import drive\n",
        "drive.mount('/content/drive')"
      ],
      "execution_count": 1,
      "outputs": [
        {
          "output_type": "stream",
          "name": "stdout",
          "text": [
            "Mounted at /content/drive\n"
          ]
        }
      ]
    },
    {
      "cell_type": "code",
      "metadata": {
        "id": "W5wQPTcjG8Ft"
      },
      "source": [
        "import numpy as np\n",
        "from math import log\n",
        "from numpy import mean\n",
        "from scipy.io import loadmat \n",
        "import matplotlib.pyplot as plt\n",
        "import numpy as np\n",
        "import pandas as pd\n",
        "from sklearn.preprocessing import OneHotEncoder\n",
        "from sklearn.utils import shuffle\n",
        "from sklearn.metrics import mean_squared_error\n",
        "from sklearn.model_selection import train_test_split"
      ],
      "execution_count": 2,
      "outputs": []
    },
    {
      "cell_type": "markdown",
      "source": [
        "* **Read data**"
      ],
      "metadata": {
        "id": "-SrP5Eiu6v-r"
      }
    },
    {
      "cell_type": "code",
      "metadata": {
        "id": "8D8i-Q_aJA8-"
      },
      "source": [
        "mat = loadmat('/content/drive/MyDrive/Colab Notebooks/Deep Learning/MultiClass-Problem-Train-Deep-1.mat')  # load mat-file\n",
        "X_train = mat['All_Data']  # variable in mat file\n",
        "y_train = mat['All_Labels']  # variable in mat file"
      ],
      "execution_count": 3,
      "outputs": []
    },
    {
      "cell_type": "code",
      "metadata": {
        "id": "Rj1JjsmlOLRT"
      },
      "source": [
        "mat_test = loadmat('/content/drive/MyDrive/Colab Notebooks/Deep Learning/MultiClass-Problem-Test-Deep-1.mat')  # load mat-file\n",
        "X_test = mat_test['All_Data']  # variable in mat file\n",
        "y_test = mat_test['All_Labels']  # variable in mat file"
      ],
      "execution_count": 4,
      "outputs": []
    },
    {
      "cell_type": "code",
      "metadata": {
        "colab": {
          "base_uri": "https://localhost:8080/"
        },
        "id": "1_XQflIJeQ_4",
        "outputId": "a861fb33-20fb-4bdb-f749-910024cc0d1c"
      },
      "source": [
        "X_train.shape"
      ],
      "execution_count": null,
      "outputs": [
        {
          "output_type": "execute_result",
          "data": {
            "text/plain": [
              "(1600, 5)"
            ]
          },
          "metadata": {},
          "execution_count": 5
        }
      ]
    },
    {
      "cell_type": "markdown",
      "source": [
        " * **Create a class that represents our network’s hidden and output layers.**"
      ],
      "metadata": {
        "id": "nl7nwBSB63nQ"
      }
    },
    {
      "cell_type": "code",
      "metadata": {
        "id": "awWATZFJOOCJ"
      },
      "source": [
        "class L_layerDeepNetwork(object):\n",
        "\n",
        "    def __init__(self, alpha=0.6, n_iteration=1000): \n",
        "\n",
        "      self.alpha = alpha                         \n",
        "      self.n_iter = n_iteration\n",
        "\n",
        "    def initialize_parameters_deep(self, layer_dims):\n",
        "      \n",
        "      np.random.seed(3)\n",
        "    \n",
        "      parameters = {}\n",
        "      L = len(layer_dims)    # number of layers in the network\n",
        "\n",
        "      for l in range(1, L):\n",
        "        parameters['W' + str(l)] = np.random.randn(layer_dims[l-1], layer_dims[l]) * 0.001\n",
        "        parameters['b' + str(l)] = np.zeros(layer_dims[l])\n",
        "        \n",
        "        assert(parameters['W' + str(l)].shape == (layer_dims[l-1], layer_dims[l]))\n",
        "        #assert(parameters['b' + str(l)].shape == (layer_dims[l]))\n",
        "        \n",
        "      return parameters\n",
        "\n",
        "\n",
        "    def sigmoid(self,Z):\n",
        "      A = 1/(1+np.exp(-Z))\n",
        "      cache = Z\n",
        "      return A, cache\n",
        "\n",
        "    def sigmoid_backward(self,cache):\n",
        "\n",
        "      s = cache\n",
        "      ds= s*(1-s)\n",
        "\n",
        "      return ds\n",
        "\n",
        "    def softmax(self, Z):\n",
        "      expA = np.exp(Z)\n",
        "      A= expA / expA.sum(axis=1, keepdims=True)\n",
        "      cache = Z \n",
        "      return A, cache \n",
        "\n",
        "    # ==============  Forward Propagation  \n",
        "\n",
        "    def linear_forward(self, A, W, b): # Linear Forward\n",
        "      Z = np.dot(A, W) + b\n",
        "\n",
        "      assert(Z.shape == (A.shape[0], W.shape[1])) # e.x---> w=(4,3), A=(5,3) , z(4,5)\n",
        "      cache = (A, W, b)\n",
        "    \n",
        "      return Z, cache  \n",
        "    \n",
        "    def linear_activation_forward(self, A_prev, W, b, activation): # Linear-Activation Forward\n",
        "      \n",
        "      if activation == \"sigmoid\":\n",
        "        Z, linear_cache = self.linear_forward(A_prev, W, b)\n",
        "        A, activation_cache = self.sigmoid(Z)\n",
        "    \n",
        "      elif activation == \"softmax\":\n",
        "        Z, linear_cache = self.linear_forward(A_prev, W, b)\n",
        "        A, activation_cache = self.softmax(Z)\n",
        "    \n",
        "      assert (A.shape == (A_prev.shape[0], W.shape[1]))\n",
        "      cache = (linear_cache, activation_cache)\n",
        "\n",
        "      return A, cache\n",
        "\n",
        "    def L_model_forward(self,X,Y, parameters):\n",
        "      \n",
        "      caches = []\n",
        "      A = X\n",
        "      \n",
        "      L = len(parameters) // 2  # number of layers in the neural network\n",
        "    \n",
        "      for l in range(1, L):\n",
        "        A_prev = A \n",
        "        A, cache = self.linear_activation_forward(A_prev, \n",
        "                                                  parameters['W' + str(l)], \n",
        "                                                  parameters['b' + str(l)], \n",
        "                                                  activation='sigmoid')\n",
        "        caches.append(cache)\n",
        "    \n",
        "      AL, cache = self.linear_activation_forward(A, \n",
        "                                                 parameters['W' + str(L)], \n",
        "                                                 parameters['b' + str(L)], \n",
        "                                                 activation='softmax')\n",
        "      caches.append(cache)\n",
        "    \n",
        "      #assert(AL.shape == (X.shape[0],Y.shape[1]))\n",
        "            \n",
        "      return AL, caches\n",
        "\n",
        "    # Cost Function\n",
        "    def compute_cost(self,AL, Y): \n",
        "\n",
        "      m = Y.shape[0]\n",
        "      k= Y.shape[1]\n",
        "\n",
        "      E= (-1/(m*k)) * np.sum(Y * np.log(AL))\n",
        "    \n",
        "      assert(E.shape == ())\n",
        "    \n",
        "      return E\n",
        "\n",
        "   # ==================  Backward Propagation   \n",
        "    # Linear backeard l=L\n",
        "\n",
        "    def linear_last_backward(self,dE, cache):\n",
        "\n",
        "      A_prev, W, b = cache[0]\n",
        "      m = A_prev.shape[0]\n",
        "      k = A_prev.shape[1]\n",
        "\n",
        "      dW = (1 / (k*m)) * np.dot(A_prev.T,dE)   \n",
        "      db = (1/(k*m))* np.sum(dE, axis=0, keepdims=True)\n",
        "      \n",
        "      ds= self.sigmoid_backward(cache[1])\n",
        "\n",
        "      dA_prev = np.dot((dE * ds), W.T)\n",
        "\n",
        "      assert (dA_prev.shape == A_prev.shape)\n",
        "      assert (dW.shape == W.shape)\n",
        "\n",
        "      return dA_prev, dW, db\n",
        "\n",
        "\n",
        "    # Linear backward l<L\n",
        "    def linear_backward(self,dA,dS, cache):  \n",
        "\n",
        "      A_prev, W, b = cache[0]\n",
        "      m = A_prev.shape[0]\n",
        "      k = A_prev.shape[1]\n",
        "\n",
        "      dE= dA*dS\n",
        "\n",
        "      dW = (1 /(k*m)) * np.dot(A_prev.T,dE)  \n",
        "      db = (1/(k*m)) * np.sum(dE, axis=0, keepdims=True)\n",
        "\n",
        "      ds= self.sigmoid_backward(cache[1])\n",
        "\n",
        "      dA_prev = np.dot((dA * ds), W.T)\n",
        "\n",
        "      assert (dA_prev.shape == A_prev.shape)\n",
        "      assert (dW.shape == W.shape)\n",
        "      #assert (db.shape[1] == b.shape[0])\n",
        "    \n",
        "      return dA_prev, dW, db  \n",
        "\n",
        "\n",
        "    # L-Model Backward\n",
        "    def L_model_backward(self,AL, Y, caches): # L-Model Backward\n",
        "      grads = {}\n",
        "      L = len(caches) # the number of layers\n",
        "      m = AL.shape[1]\n",
        "      Y = Y.reshape(AL.shape) # after this line, Y is the same shape as AL\n",
        "\n",
        "      error= AL-Y\n",
        "\n",
        "      current_cache = caches[-1]\n",
        "      grads[\"dA\" + str(L)], grads[\"dW\" + str(L)], grads[\"db\" + str(L)] = self.linear_last_backward(error, current_cache)\n",
        "    \n",
        "      dA_prev= grads[\"dA\" + str(L)]\n",
        "\n",
        "      for l in reversed(range(L-1)):\n",
        "        dAL= dA_prev\n",
        "        current_cache = caches[l]\n",
        "        dA_prev, dW, db = self.linear_backward(dAL , self.sigmoid_backward(current_cache[1]), current_cache) ##### edited\n",
        "        grads[\"dA\" + str(l + 1)] = dA_prev\n",
        "        grads[\"dW\" + str(l + 1)] = dW\n",
        "        grads[\"db\" + str(l + 1)] = db\n",
        "        \n",
        "      return grads\n",
        "\n",
        "    # Update parameters\n",
        "    def update_parameters(self,parameters, grads, learning_rate):\n",
        "      L = len(parameters) // 2 # number of layers in the neural network\n",
        "\n",
        "      for l in range(L):\n",
        "        parameters[\"W\" + str(l+1)] = parameters['W' + str(l + 1)] - learning_rate * grads['dW' + str(l + 1)]\n",
        "        parameters[\"b\" + str(l+1)] = parameters['b' + str(l + 1)] - learning_rate * grads['db' + str(l + 1)]\n",
        "        \n",
        "      return parameters\n",
        "\n",
        "\n",
        "    def fit(self, X, Y, layers_dims,print_cost=False):\n",
        "\n",
        "      X, Y = shuffle(X, Y)\n",
        "\n",
        "      encoder = OneHotEncoder(sparse=False)\n",
        "      Y = encoder.fit_transform(Y)\n",
        " \n",
        "      np.random.seed(1)\n",
        "      costs = []    # keep track of cost\n",
        "    \n",
        "      self.parameters = self.initialize_parameters_deep(layers_dims)\n",
        "     \n",
        "      for i in range(0, self.n_iter):\n",
        "        # Forward propagation: [LINEAR -> Sigmoid]*(L-1) -> LINEAR -> Softmax.\n",
        "        AL, caches = self.L_model_forward(X,Y, self.parameters)\n",
        "        \n",
        "        # Compute cost\n",
        "        cost = self.compute_cost(AL, Y)\n",
        "    \n",
        "        # Backward propagation\n",
        "        grads = self.L_model_backward(AL, Y, caches)\n",
        " \n",
        "        # Update parameters\n",
        "        self.parameters = self.update_parameters(self.parameters, grads, self.alpha)\n",
        "\n",
        "        costs.append(cost)\n",
        " \n",
        "      # plot the cost\n",
        "      plt.plot(np.squeeze(costs))\n",
        "      plt.ylabel('cost')\n",
        "      plt.xlabel('iterations (per tens)')\n",
        "      plt.title(\"Learning rate =\" + str(self.alpha))\n",
        "      plt.show()\n",
        "    \n",
        "      return self\n",
        "\n",
        "\n",
        "    # ================= Prediction\n",
        "    def predict(self, X,y):\n",
        "      \n",
        "      A = X\n",
        "      \n",
        "      L = len(self.parameters) // 2  # number of layers in the neural network\n",
        "    \n",
        "      for l in range(1, L):\n",
        "        A_prev = A \n",
        "        A, cache = self.linear_activation_forward(A_prev, \n",
        "                                                  self.parameters['W' + str(l)], \n",
        "                                                  self.parameters['b' + str(l)], \n",
        "                                                  activation='sigmoid')\n",
        "    \n",
        "      yhat, cache = self.linear_activation_forward(A,\n",
        "                                                   self.parameters['W' + str(L)], \n",
        "                                                   self.parameters['b' + str(L)], \n",
        "                                                   activation='softmax') \n",
        "       #yhat, cash= self.L_model_forward(X,y,self.parameters)\n",
        "      X_predicted= np.argmax(yhat,axis=1) \n",
        "      X_predicted +=1\n",
        "      X_predicted= X_predicted.reshape(-1,1)\n",
        "\n",
        "      return X_predicted  \n",
        "\n",
        "    def score(self,X, y): #This function compares the predictd label with the actual label to find the model performance\n",
        "      score = sum(self.predict(X,y) == y) / len(y)\n",
        "      return score  \n"
      ],
      "execution_count": 17,
      "outputs": []
    },
    {
      "cell_type": "markdown",
      "source": [
        "* **Evaluete the model with One_layer network**\n",
        "\n",
        "      alpha=0.6, n_iteration=1000"
      ],
      "metadata": {
        "id": "n5xZA9JC48Zs"
      }
    },
    {
      "cell_type": "code",
      "metadata": {
        "id": "7qVeqso5d2tk"
      },
      "source": [
        "layers_dims_one = [5,32]#  1-layer model"
      ],
      "execution_count": 8,
      "outputs": []
    },
    {
      "cell_type": "code",
      "metadata": {
        "colab": {
          "base_uri": "https://localhost:8080/",
          "height": 295
        },
        "id": "IBZQT1Yuerxg",
        "outputId": "af8818df-1c78-44bb-ef57-119944e2f193"
      },
      "source": [
        "model_one=L_layerDeepNetwork().fit(X_train,y_train,layers_dims_one,print_cost=False)"
      ],
      "execution_count": 18,
      "outputs": [
        {
          "output_type": "display_data",
          "data": {
            "image/png": "[encoded data removed]",
            "text/plain": [
              "<Figure size 432x288 with 1 Axes>"
            ]
          },
          "metadata": {
            "needs_background": "light"
          }
        }
      ]
    },
    {
      "cell_type": "code",
      "source": [
        "print('Accuracy: %.2f%%' % (model_one.score(X_train,y_train) * 100))"
      ],
      "metadata": {
        "colab": {
          "base_uri": "https://localhost:8080/"
        },
        "id": "Q_rDq4eRIz0Y",
        "outputId": "d469c157-38b9-47d8-9f50-688544107bff"
      },
      "execution_count": 31,
      "outputs": [
        {
          "output_type": "stream",
          "name": "stdout",
          "text": [
            "Accuracy: 70.38%\n"
          ]
        }
      ]
    },
    {
      "cell_type": "code",
      "source": [
        "print('Accuracy: %.2f%%' % (model_one.score(X_test,y_test) * 100))"
      ],
      "metadata": {
        "colab": {
          "base_uri": "https://localhost:8080/"
        },
        "id": "b0AMcwqQ-ReO",
        "outputId": "6bb80fce-c43a-4aab-bbe0-b97975a1fd8d"
      },
      "execution_count": 30,
      "outputs": [
        {
          "output_type": "stream",
          "name": "stdout",
          "text": [
            "Accuracy: 69.31%\n"
          ]
        }
      ]
    },
    {
      "cell_type": "code",
      "source": [
        "model_one.parameters"
      ],
      "metadata": {
        "colab": {
          "base_uri": "https://localhost:8080/"
        },
        "id": "EAppJeMteE9_",
        "outputId": "dd13452e-657d-4f3e-b36e-47d1d3a30326"
      },
      "execution_count": 22,
      "outputs": [
        {
          "output_type": "execute_result",
          "data": {
            "text/plain": [
              "{'W1': array([[-0.2247811 , -0.60682557, -0.57243425, -0.93693876, -0.74447622,\n",
              "         -1.02080433, -1.00864952, -1.06237895, -0.62189448, -0.91633959,\n",
              "         -0.98077966, -1.41521023, -0.94717284, -1.31369797, -1.3445643 ,\n",
              "         -1.80495979,  1.86843803,  1.38504938,  1.26423538,  0.97551503,\n",
              "          1.47974804,  0.97665323,  1.03562878,  0.57595949,  1.31687666,\n",
              "          0.90029237,  0.81259199,  0.65567586,  0.92131539,  0.55774171,\n",
              "          0.5303587 ,  0.26480164],\n",
              "        [-0.09217536, -0.55360018, -0.66914092, -1.01500713, -0.57584941,\n",
              "         -0.99553166, -0.93273974, -1.39544271,  1.87456312,  1.30953417,\n",
              "          1.35502561,  0.94891833,  1.39085664,  0.88315124,  0.77085565,\n",
              "          0.5465914 , -0.65231214, -0.99603202, -0.89449649, -1.32608835,\n",
              "         -1.14861263, -1.27078631, -1.14488525, -1.59164902,  1.40298303,\n",
              "          1.08005146,  0.97468237,  0.50949067,  0.89292697,  0.49751639,\n",
              "          0.48267448,  0.32574683],\n",
              "        [-0.03491428, -0.50964902, -0.53200306, -0.96662203,  1.81302175,\n",
              "          1.39408561,  1.38069797,  0.73990713, -0.61561251, -1.00768573,\n",
              "         -0.95460098, -1.35064496,  1.46259917,  0.84158085,  0.94695345,\n",
              "          0.70131252, -0.52229701, -1.05401823, -1.03154433, -1.31721662,\n",
              "          1.3025436 ,  0.99467861,  0.6456274 ,  0.67064777, -0.94316085,\n",
              "         -1.32852527, -1.33609863, -1.64783611,  0.96993556,  0.59814198,\n",
              "          0.5483385 ,  0.13961932],\n",
              "        [-0.12650023, -0.71351892,  1.86209596,  1.38134284, -0.41040272,\n",
              "         -1.10918927,  1.26582913,  0.9710424 , -0.60498613, -0.98268278,\n",
              "          1.27382683,  0.83930296, -0.98389002, -1.22227987,  1.02469963,\n",
              "          0.5272881 , -0.5418484 , -0.98998784,  1.42092016,  0.93670053,\n",
              "         -0.90348483, -1.26429893,  0.8547929 ,  0.47345796, -0.9189995 ,\n",
              "         -1.50877029,  0.90490081,  0.57067579, -1.42355368, -1.55748612,\n",
              "          0.74340236,  0.21363761],\n",
              "        [-0.04304002,  1.91889209, -0.57353431,  1.30752471, -0.46798464,\n",
              "          1.4458239 , -0.86387476,  0.90365354, -0.5997491 ,  1.35632817,\n",
              "         -0.96022681,  1.02654922, -1.22502686,  0.97083746, -1.31089043,\n",
              "          0.57556286, -0.5566248 ,  1.41837187, -0.98768712,  0.89475261,\n",
              "         -0.99115512,  0.7165783 , -1.19444482,  0.49664142, -1.12482894,\n",
              "          0.84780023, -1.21080154,  0.50865272, -1.31424204,  0.51998076,\n",
              "         -1.73752586,  0.25436209]]),\n",
              " 'b1': array([[ 1.12895302,  0.59481898,  0.65644469,  0.19030302,  0.55422081,\n",
              "          0.14721437,  0.13806282, -0.17629145,  0.68680157,  0.15878499,\n",
              "          0.2084337 , -0.19495961,  0.12643918, -0.24594836, -0.19595948,\n",
              "         -0.60809088,  0.57314824,  0.16194246,  0.16754635, -0.24432628,\n",
              "          0.15694737, -0.20124859, -0.18571716, -0.58098551,  0.1573644 ,\n",
              "         -0.13929414, -0.22229811, -0.5600059 , -0.17199366, -0.55984711,\n",
              "         -0.59718192, -0.92327782]])}"
            ]
          },
          "metadata": {},
          "execution_count": 22
        }
      ]
    },
    {
      "cell_type": "markdown",
      "source": [
        "* **Evaluete the model with 2_layers network**"
      ],
      "metadata": {
        "id": "RqLt2p5a76jw"
      }
    },
    {
      "cell_type": "code",
      "source": [
        "layers_dims_one = [5,3,6,32]#  3-layer model"
      ],
      "metadata": {
        "id": "8bDavl338Jvv"
      },
      "execution_count": 24,
      "outputs": []
    },
    {
      "cell_type": "code",
      "source": [
        "model_two=L_layerDeepNetwork().fit(X_train,y_train,layers_dims_one,print_cost=False)"
      ],
      "metadata": {
        "colab": {
          "base_uri": "https://localhost:8080/",
          "height": 295
        },
        "id": "Vu9vPsEH8RqO",
        "outputId": "5471f758-7ebd-44af-84e7-c6c1473d1c5b"
      },
      "execution_count": 25,
      "outputs": [
        {
          "output_type": "display_data",
          "data": {
            "image/png": "[encoded data removed]",
            "text/plain": [
              "<Figure size 432x288 with 1 Axes>"
            ]
          },
          "metadata": {
            "needs_background": "light"
          }
        }
      ]
    },
    {
      "cell_type": "code",
      "source": [
        "print('Accuracy: %.2f%%' % (model_two.score(X_train,y_train) * 100))"
      ],
      "metadata": {
        "colab": {
          "base_uri": "https://localhost:8080/"
        },
        "id": "JnHexwnD9Tpl",
        "outputId": "24e21c89-2bf2-45d5-fb0f-34ac3845a16c"
      },
      "execution_count": 29,
      "outputs": [
        {
          "output_type": "stream",
          "name": "stdout",
          "text": [
            "Accuracy: 3.12%\n"
          ]
        }
      ]
    },
    {
      "cell_type": "code",
      "source": [
        "print('Accuracy: %.2f%%' % (model_two.score(X_test,y_test) * 100))"
      ],
      "metadata": {
        "colab": {
          "base_uri": "https://localhost:8080/"
        },
        "id": "ec3WqvmO95iq",
        "outputId": "b57bdc27-818a-4a67-e4b0-634c1b7153bd"
      },
      "execution_count": 28,
      "outputs": [
        {
          "output_type": "stream",
          "name": "stdout",
          "text": [
            "Accuracy: 3.12%\n"
          ]
        }
      ]
    },
    {
      "cell_type": "markdown",
      "source": [
        "**In my opinion, n_layer network is not suitable for this data model that we have.**"
      ],
      "metadata": {
        "id": "LC7NZCMY-1sr"
      }
    },
    {
      "cell_type": "markdown",
      "source": [
        "Check with MLPClassifier from sklearn:"
      ],
      "metadata": {
        "id": "EJmfuI1k-_L5"
      }
    },
    {
      "cell_type": "code",
      "source": [
        "from sklearn.neural_network import MLPClassifier\n",
        "\n",
        "clf= MLPClassifier(solver='sgd', alpha=0.5, hidden_layer_sizes=(1,5), random_state=1, warm_start=True)"
      ],
      "metadata": {
        "id": "BMefyNu9f7qb"
      },
      "execution_count": 32,
      "outputs": []
    },
    {
      "cell_type": "code",
      "source": [
        "x,y= shuffle(X_train, y_train)\n",
        "encoder = OneHotEncoder(sparse=False)\n",
        "Y = encoder.fit_transform(y_train)\n",
        "clf.fit(x,np.ravel(y))"
      ],
      "metadata": {
        "colab": {
          "base_uri": "https://localhost:8080/"
        },
        "id": "tQn7p0P3hx6Z",
        "outputId": "1a215b3c-8094-464b-f29d-158cebb149cc"
      },
      "execution_count": 33,
      "outputs": [
        {
          "output_type": "execute_result",
          "data": {
            "text/plain": [
              "MLPClassifier(alpha=0.5, hidden_layer_sizes=(1, 5), random_state=1,\n",
              "              solver='sgd', warm_start=True)"
            ]
          },
          "metadata": {},
          "execution_count": 33
        }
      ]
    },
    {
      "cell_type": "code",
      "source": [
        "clf.predict_proba(X_test)"
      ],
      "metadata": {
        "colab": {
          "base_uri": "https://localhost:8080/"
        },
        "id": "7HhddOoijCds",
        "outputId": "18ae34d0-7bb0-405d-9dfd-91f5821fa85e"
      },
      "execution_count": 35,
      "outputs": [
        {
          "output_type": "execute_result",
          "data": {
            "text/plain": [
              "array([[0.03416511, 0.02707192, 0.02510319, ..., 0.03317176, 0.03033267,\n",
              "        0.02927304],\n",
              "       [0.03416511, 0.02707192, 0.02510319, ..., 0.03317176, 0.03033267,\n",
              "        0.02927304],\n",
              "       [0.03416511, 0.02707192, 0.02510319, ..., 0.03317176, 0.03033267,\n",
              "        0.02927304],\n",
              "       ...,\n",
              "       [0.03416511, 0.02707192, 0.02510319, ..., 0.03317176, 0.03033267,\n",
              "        0.02927304],\n",
              "       [0.03416511, 0.02707192, 0.02510319, ..., 0.03317176, 0.03033267,\n",
              "        0.02927304],\n",
              "       [0.03416511, 0.02707192, 0.02510319, ..., 0.03317176, 0.03033267,\n",
              "        0.02927304]])"
            ]
          },
          "metadata": {},
          "execution_count": 35
        }
      ]
    },
    {
      "cell_type": "code",
      "source": [
        "clf.score(X_test, y_test)"
      ],
      "metadata": {
        "colab": {
          "base_uri": "https://localhost:8080/"
        },
        "id": "wRLP94ax_xj8",
        "outputId": "cd6d5e98-9f55-4619-865f-bc7c48490bd8"
      },
      "execution_count": 37,
      "outputs": [
        {
          "output_type": "execute_result",
          "data": {
            "text/plain": [
              "0.03125"
            ]
          },
          "metadata": {},
          "execution_count": 37
        }
      ]
    }
  ]
}