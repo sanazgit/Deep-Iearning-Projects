{
  "nbformat": 4,
  "nbformat_minor": 0,
  "metadata": {
    "colab": {
      "name": "Single layer ANN_MultiClass.ipynb",
      "provenance": [],
      "toc_visible": true,
      "authorship_tag": "ABX9TyMRVxPickTp70VEl0Sb1CZq",
      "include_colab_link": true
    },
    "kernelspec": {
      "name": "python3",
      "display_name": "Python 3"
    },
    "language_info": {
      "name": "python"
    }
  },
  "cells": [
    {
      "cell_type": "markdown",
      "metadata": {
        "id": "view-in-github",
        "colab_type": "text"
      },
      "source": [
        "<a href=\"https://colab.research.google.com/github/sanazgit/Deep-Iearning-Projects/blob/main/Single_layer_ANN_MultiClass.ipynb\" target=\"_parent\"><img src=\"https://colab.research.google.com/assets/colab-badge.svg\" alt=\"Open In Colab\"/></a>"
      ]
    },
    {
      "cell_type": "markdown",
      "metadata": {
        "id": "Hjl-ljdYbEvw"
      },
      "source": [
        "# **Single-layer ANN for multiclass classification**"
      ]
    },
    {
      "cell_type": "markdown",
      "metadata": {
        "id": "WNtPIOWlbg3S"
      },
      "source": [
        "In this project, I built a very simple neural network (**Single layer**) from scratch for a 32-class problem for the following modes:\n",
        "\n",
        "\n",
        "\n",
        "1.   Least square\n",
        "2.   Sigmoid\n",
        "3.   Softmax\n",
        "\n",
        "\n",
        "\n",
        "\n"
      ]
    },
    {
      "cell_type": "code",
      "metadata": {
        "colab": {
          "base_uri": "https://localhost:8080/"
        },
        "id": "-ivvIx2RLEpT",
        "outputId": "26ebea1b-e2b9-43bc-93b9-8a7055a86727"
      },
      "source": [
        "from google.colab import drive\n",
        "drive.mount('/content/drive')"
      ],
      "execution_count": null,
      "outputs": [
        {
          "output_type": "stream",
          "name": "stdout",
          "text": [
            "Drive already mounted at /content/drive; to attempt to forcibly remount, call drive.mount(\"/content/drive\", force_remount=True).\n"
          ]
        }
      ]
    },
    {
      "cell_type": "code",
      "metadata": {
        "id": "XK8F46jyLJQk"
      },
      "source": [
        "import numpy as np\n",
        "from math import log\n",
        "from numpy import mean\n",
        "from scipy.io import loadmat \n",
        "import matplotlib.pyplot as plt\n",
        "import numpy as np\n",
        "import pandas as pd\n",
        "from sklearn import preprocessing\n",
        "from sklearn.preprocessing import OneHotEncoder\n",
        "from sklearn.utils import shuffle\n",
        "from sklearn.metrics import mean_squared_error\n",
        "from sklearn.model_selection import train_test_split"
      ],
      "execution_count": null,
      "outputs": []
    },
    {
      "cell_type": "markdown",
      "metadata": {
        "id": "09qUpXlme4ha"
      },
      "source": [
        "* **Import the data**\n",
        "\n",
        "I load the data and see what it looks like:"
      ]
    },
    {
      "cell_type": "code",
      "metadata": {
        "id": "Wjxebj2qLNue"
      },
      "source": [
        "mat = loadmat('/content/drive/MyDrive/Colab Notebooks/Deep Learning/MultiClass-Problem-Train-Deep-1.mat')  # load mat-file\n",
        "X_train = mat['All_Data']  # variable in mat file\n",
        "y_train = mat['All_Labels']  # variable in mat file"
      ],
      "execution_count": null,
      "outputs": []
    },
    {
      "cell_type": "code",
      "metadata": {
        "colab": {
          "base_uri": "https://localhost:8080/"
        },
        "id": "agq9KQHt-MBO",
        "outputId": "40bf0ffb-2c87-47d6-b9fe-86ef060ee33a"
      },
      "source": [
        "X_train.shape"
      ],
      "execution_count": null,
      "outputs": [
        {
          "output_type": "execute_result",
          "data": {
            "text/plain": [
              "(1600, 5)"
            ]
          },
          "metadata": {},
          "execution_count": 5
        }
      ]
    },
    {
      "cell_type": "code",
      "metadata": {
        "id": "XsKkedafLfqc"
      },
      "source": [
        "mat_test = loadmat('/content/drive/MyDrive/Colab Notebooks/Deep Learning/MultiClass-Problem-Test-Deep-1.mat')  # load mat-file\n",
        "X_test = mat_test['All_Data']  # variable in mat file\n",
        "y_test = mat_test['All_Labels']  # variable in mat file"
      ],
      "execution_count": null,
      "outputs": []
    },
    {
      "cell_type": "markdown",
      "metadata": {
        "id": "YM9jHDhjfmMV"
      },
      "source": [
        "* **Choose the activation function**"
      ]
    },
    {
      "cell_type": "markdown",
      "metadata": {
        "id": "90P_twBVk0Y-"
      },
      "source": [
        "# Least square"
      ]
    },
    {
      "cell_type": "code",
      "metadata": {
        "id": "4QDrn5DXlkSH"
      },
      "source": [
        "X_b = np.c_[np.ones((X_train.shape[0], 1)), X_train] # add x0 = 1 to each instance\n",
        "encoder = OneHotEncoder(sparse=False)\n",
        "y_oh = encoder.fit_transform(y_train)\n",
        "\n",
        "weights = np.linalg.inv(X_b.T.dot(X_b)).dot(X_b.T).dot(y_oh)"
      ],
      "execution_count": null,
      "outputs": []
    },
    {
      "cell_type": "code",
      "metadata": {
        "colab": {
          "base_uri": "https://localhost:8080/"
        },
        "id": "xIf2eE7CoYLM",
        "outputId": "a28015a4-a81f-46bf-bdca-5528e0a5cc49"
      },
      "source": [
        "weights.shape"
      ],
      "execution_count": null,
      "outputs": [
        {
          "output_type": "execute_result",
          "data": {
            "text/plain": [
              "(6, 32)"
            ]
          },
          "metadata": {},
          "execution_count": 81
        }
      ]
    },
    {
      "cell_type": "code",
      "metadata": {
        "colab": {
          "base_uri": "https://localhost:8080/"
        },
        "id": "5jdGEeJrUIwj",
        "outputId": "69d822bb-89a2-4d0a-80fc-d92abf113041"
      },
      "source": [
        "weights"
      ],
      "execution_count": null,
      "outputs": [
        {
          "output_type": "execute_result",
          "data": {
            "text/plain": [
              "array([[ 0.3889274 ,  0.23405595,  0.25332815,  0.09961619,  0.2200725 ,\n",
              "         0.09678496,  0.08469625, -0.02782034,  0.26528043,  0.08921618,\n",
              "         0.10685026, -0.03744708,  0.08840731, -0.05269852, -0.03287673,\n",
              "        -0.18681885,  0.22773498,  0.09640966,  0.09750777, -0.05231572,\n",
              "         0.10216951, -0.03045479, -0.02950216, -0.1750755 ,  0.09510678,\n",
              "        -0.01120847, -0.04476887, -0.17637992, -0.02036189, -0.1714073 ,\n",
              "        -0.18009643, -0.3169317 ],\n",
              "       [-0.05040675, -0.04430036, -0.04640023, -0.04351945, -0.04959712,\n",
              "        -0.04586596, -0.04605226, -0.03723675, -0.04800883, -0.04018542,\n",
              "        -0.04670382, -0.04962542, -0.0424071 , -0.04409287, -0.04900198,\n",
              "        -0.0539822 ,  0.04589199,  0.04824219,  0.04216452,  0.04986138,\n",
              "         0.05005444,  0.04711073,  0.04741121,  0.0456855 ,  0.04591391,\n",
              "         0.04375877,  0.04185657,  0.05006974,  0.04379191,  0.04556504,\n",
              "         0.04383183,  0.04617682],\n",
              "       [-0.04888181, -0.04423876, -0.05190652, -0.04750895, -0.04422294,\n",
              "        -0.04502057, -0.04222135, -0.04972966,  0.03931498,  0.04507417,\n",
              "         0.04373819,  0.04778966,  0.04820352,  0.04562777,  0.03934513,\n",
              "         0.04787945, -0.04765246, -0.04507862, -0.04258126, -0.04447041,\n",
              "        -0.05193953, -0.04408418, -0.03977967, -0.04429181,  0.04900944,\n",
              "         0.05108182,  0.0487575 ,  0.04495864,  0.04345816,  0.04398138,\n",
              "         0.04431145,  0.05107725],\n",
              "       [-0.0432184 , -0.04163884, -0.04474604, -0.04555695,  0.04711705,\n",
              "         0.04856692,  0.04937791,  0.03642272, -0.04876421, -0.04603706,\n",
              "        -0.04527495, -0.04822108,  0.05530607,  0.04421484,  0.04830791,\n",
              "         0.05372353, -0.0413787 , -0.04848932, -0.04794087, -0.04615139,\n",
              "         0.04516748,  0.04773021,  0.0327465 ,  0.04970963, -0.04406733,\n",
              "        -0.05019648, -0.04724525, -0.04994921,  0.04744282,  0.04610101,\n",
              "         0.04666088,  0.04028059],\n",
              "       [-0.04922363, -0.05050846,  0.0429134 ,  0.04813391, -0.03788318,\n",
              "        -0.05004633,  0.04390135,  0.04718751, -0.05009349, -0.04538291,\n",
              "         0.04268395,  0.04443532, -0.04449225, -0.04045   ,  0.05062252,\n",
              "         0.04792936, -0.04405729, -0.04625641,  0.05001893,  0.0500046 ,\n",
              "        -0.0441497 , -0.04532359,  0.04214208,  0.04324814, -0.0445549 ,\n",
              "        -0.05801842,  0.04678676,  0.04784512, -0.05357037, -0.04552456,\n",
              "         0.05583908,  0.04584346],\n",
              "       [-0.04619998,  0.04617453, -0.0473437 ,  0.04361345, -0.04114225,\n",
              "         0.04905732, -0.04050811,  0.04322589, -0.04902618,  0.04749689,\n",
              "        -0.04545984,  0.05098326, -0.05575702,  0.04994075, -0.04743025,\n",
              "         0.04901011, -0.04302925,  0.04912406, -0.04512669,  0.04742905,\n",
              "        -0.04590029,  0.0362947 , -0.04161344,  0.04379657, -0.04931668,\n",
              "         0.04144074, -0.03989794,  0.0453543 , -0.04741847,  0.04449794,\n",
              "        -0.05046816,  0.04819868]])"
            ]
          },
          "metadata": {},
          "execution_count": 87
        }
      ]
    },
    {
      "cell_type": "markdown",
      "metadata": {
        "id": "NwRpP6pIUMCy"
      },
      "source": [
        "# Class Neural network (With sigmoid)"
      ]
    },
    {
      "cell_type": "markdown",
      "metadata": {
        "id": "qJ5TAn1sgsaX"
      },
      "source": [
        "**Building the neural network class:**\n",
        "\n",
        "**Step 1**: Initialize the weights\n",
        "\n",
        "**Step 2**: Forward propagation module\n",
        "\n",
        "In forward propagation, we need to feed the weighted sum to an activation function.\n",
        "\n",
        "**Step 3**: Define the cost function\n",
        "\n",
        "**Step 4**: Backpropagation\n",
        "\n",
        "During forward propagation, a series of calculations is performed to generate a prediction and to calculate the cost. "
      ]
    },
    {
      "cell_type": "code",
      "metadata": {
        "id": "y2NRC02BZv41"
      },
      "source": [
        "class NeuralNetwork_MultiClass(object):\n",
        "\n",
        "  def __init__(self, alpha=0.0052, n_iteration=100): \n",
        "\n",
        "    self.alpha = alpha                         \n",
        "    self.n_iter = n_iteration\n",
        "    self.weights= 0.001 * np.random.randn(6,32)\n",
        "        \n",
        "  def sigmoid(self, x): #This function is resonsible for calculating the sigmoid value with given parameter\n",
        "    value = 1 / (1 + np.exp(-x))\n",
        "    return value\n",
        "\n",
        "  def sigmoid_derivative(self, z):\n",
        "    return self.sigmoid(z) * (1 - self.sigmoid(z)) \n",
        "\n",
        "  def fit(self, X, y): #This function primarily calculates the optimal theta value using which we predict the future data\n",
        "\n",
        "    print(\"Fitting the given dataset..\")\n",
        "   \n",
        "    self.train_errors, self.val_errors = [], []\n",
        "    \n",
        "    X = np.insert(X, 0, 1, axis=1)\n",
        "    m = len(y)\n",
        "\n",
        "    encoder = OneHotEncoder(sparse=False)\n",
        "    onehot = encoder.fit_transform(y)\n",
        "    X, y = shuffle(X, onehot)\n",
        "    xt, xv, yt, yv = train_test_split(X, y, test_size=0.1)\n",
        "\n",
        "    for _ in range(self.n_iter):\n",
        "\n",
        "      # =========== Phase 1: Forward propagation\n",
        "      \n",
        "      z= xt.dot(self.weights)\n",
        "      yhat= self.sigmoid(z)\n",
        "      #yhat= h.reshape(-1,1)\n",
        "      \n",
        "      # ========== Define the cost function\n",
        "      error= yhat - yt \n",
        "      mse= np.square(error).mean()\n",
        "      self.train_errors.append(mse)\n",
        "\n",
        "      # =========== Phase 2: Backpropagation\n",
        "\n",
        "      dy_dh= self.sigmoid_derivative (yhat)\n",
        "      dE_dw= 2 * np.dot(xt.T, error * dy_dh)\n",
        "        \n",
        "      self.weights -= self.alpha * dE_dw\n",
        "\n",
        "      #=========== Vladation \n",
        "\n",
        "      zv= xv.dot(self.weights)\n",
        "      ypred= self.sigmoid(zv)\n",
        "      ev= ypred - yv\n",
        "      mv= np.square(ev).mean()\n",
        "      self.val_errors.append(mv)\n",
        "\n",
        "    return self\n",
        "\n",
        "  def predict(self, X): \n",
        "\n",
        "    X = np.insert(X, 0, 1, axis=1)\n",
        "    z= X.dot(self.weights)\n",
        "    yhat= self.sigmoid(z)\n",
        "    X_predicted= np.argmax(yhat, axis=1)\n",
        "    X_predicted +=1\n",
        "    X_predicted= X_predicted.reshape(-1,1)\n",
        "\n",
        "    return X_predicted\n",
        "\n",
        "  def score(self,X, y): #This function compares the predictd label with the actual label to find the model performance\n",
        "    score = sum(self.predict(X) == y) / len(y)\n",
        "    return score    \n",
        "\n",
        "  def plot_learning_curves(self, p1,p2):\n",
        "\n",
        "    font1 = {'family':'serif','color':'blue','size':20}\n",
        "    font2 = {'family':'serif','color':'darkred','size':15}\n",
        "\n",
        "    plt.plot(np.sqrt(p1), \"r\", label=\"train\")\n",
        "    plt.plot(np.sqrt(p2), \"b\",label=\"val\")\n",
        "    plt.title('Sigmoid Activation',fontdict = font1)\n",
        "    plt.xlabel('Epochs', fontdict = font2)\n",
        "    plt.ylabel('RMSE', fontdict = font2)\n",
        "    plt.grid(True)\n",
        "    plt.legend()\n",
        "    plt.show()  "
      ],
      "execution_count": null,
      "outputs": []
    },
    {
      "cell_type": "code",
      "metadata": {
        "colab": {
          "base_uri": "https://localhost:8080/"
        },
        "id": "UcGG2dhNKUdJ",
        "outputId": "9b53df71-7745-49ea-c509-1d52ba995235"
      },
      "source": [
        "logi = NeuralNetwork_MultiClass(n_iteration=600).fit(X_train, y_train)"
      ],
      "execution_count": null,
      "outputs": [
        {
          "output_type": "stream",
          "name": "stdout",
          "text": [
            "Fitting the given dataset..\n"
          ]
        }
      ]
    },
    {
      "cell_type": "code",
      "metadata": {
        "colab": {
          "base_uri": "https://localhost:8080/",
          "height": 304
        },
        "id": "kexHroD8zgBy",
        "outputId": "e1d341d9-f491-4082-8eb0-d885e7b6ab9d"
      },
      "source": [
        "logi.plot_learning_curves(logi.train_errors,logi.val_errors)"
      ],
      "execution_count": null,
      "outputs": [
        {
          "output_type": "display_data",
          "data": {
            "image/png": "[encoded data removed]",
            "text/plain": [
              "<Figure size 432x288 with 1 Axes>"
            ]
          },
          "metadata": {
            "needs_background": "light"
          }
        }
      ]
    },
    {
      "cell_type": "markdown",
      "metadata": {
        "id": "jZl7SeQp0e4j"
      },
      "source": [
        "✅ **Train and Validation Learning Curves Showing a Good Fit**"
      ]
    },
    {
      "cell_type": "markdown",
      "metadata": {
        "id": "6nh5tcsk3q7k"
      },
      "source": [
        "* **Precision and Recall**\n"
      ]
    },
    {
      "cell_type": "code",
      "metadata": {
        "colab": {
          "base_uri": "https://localhost:8080/"
        },
        "id": "d50XwRAA1lMV",
        "outputId": "b5611d2a-6b2b-48b7-da84-2edd6f0196c5"
      },
      "source": [
        "from sklearn.metrics import precision_score, recall_score\n",
        "\n",
        "predition = logi.predict(X_train)\n",
        "precision= precision_score(y_train, predition,average='micro')\n",
        "recall= recall_score(y_train, predition,average='micro') \n",
        "\n",
        "print(\"Precision accuracy: \", precision, \"\\n\")\n",
        "print(\"Recall accuracy: \", recall)"
      ],
      "execution_count": null,
      "outputs": [
        {
          "output_type": "stream",
          "name": "stdout",
          "text": [
            "Precision accuracy:  0.765 \n",
            "\n",
            "Recall accuracy:  0.765\n"
          ]
        }
      ]
    },
    {
      "cell_type": "markdown",
      "metadata": {
        "id": "_i7M0yEI9Y2x"
      },
      "source": [
        "* **Confusion Matrix Display**"
      ]
    },
    {
      "cell_type": "code",
      "metadata": {
        "colab": {
          "base_uri": "https://localhost:8080/",
          "height": 532
        },
        "id": "LpuB6OFU55Eq",
        "outputId": "d550e890-283a-4bb3-c107-cd932580ced5"
      },
      "source": [
        "from mlxtend.plotting import plot_confusion_matrix\n",
        "conf_matrix = confusion_matrix(y_true=y_train, y_pred=predition)\n",
        "\n",
        "plot_confusion_matrix(conf_mat=conf_matrix, figsize=(8, 8), cmap=plt.cm.Greens)"
      ],
      "execution_count": null,
      "outputs": [
        {
          "output_type": "execute_result",
          "data": {
            "text/plain": [
              "(<Figure size 576x576 with 1 Axes>,\n",
              " <matplotlib.axes._subplots.AxesSubplot at 0x7f60abe59050>)"
            ]
          },
          "metadata": {},
          "execution_count": 37
        },
        {
          "output_type": "display_data",
          "data": {
            "image/png": "[encoded data removed]",
            "text/plain": [
              "<Figure size 576x576 with 1 Axes>"
            ]
          },
          "metadata": {
            "needs_background": "light"
          }
        }
      ]
    },
    {
      "cell_type": "code",
      "metadata": {
        "colab": {
          "base_uri": "https://localhost:8080/"
        },
        "id": "wPKTSn3DACLn",
        "outputId": "6e7bb9f6-e18f-40c4-ce1f-0e47fb6fac60"
      },
      "source": [
        "predition_testset = logi.predict(X_test)\n",
        "score = logi.score(X_test,y_test)\n",
        "\n",
        "print(\"the accuracy of the model is \",score)"
      ],
      "execution_count": null,
      "outputs": [
        {
          "output_type": "stream",
          "name": "stdout",
          "text": [
            "the accuracy of the model is  [0.765625]\n"
          ]
        }
      ]
    },
    {
      "cell_type": "markdown",
      "metadata": {
        "id": "4Pp4-jj-n91L"
      },
      "source": [
        "After running the code cell above, you should see that you get **76% accuracy on the test** set."
      ]
    },
    {
      "cell_type": "markdown",
      "metadata": {
        "id": "ajY-MknHAOe_"
      },
      "source": [
        "# Class Neural network (With sofmax)"
      ]
    },
    {
      "cell_type": "markdown",
      "metadata": {
        "id": "kbuV5ZPGHYoI"
      },
      "source": [
        "[Derivative of Cross Entropy Loss with Softmax](https://deepnotes.io/softmax-crossentropy)"
      ]
    },
    {
      "cell_type": "code",
      "metadata": {
        "id": "XyQtXxJ59o6x"
      },
      "source": [
        "class NeuralNetwork_MultiClass(object):\n",
        "\n",
        "  def __init__(self, alpha=0.5 ,n_iteration=100): \n",
        "\n",
        "    self.alpha = alpha                         \n",
        "    self.n_iter = n_iteration\n",
        "    self.weights= 0.002 * np.random.randn(6,32)\n",
        "        \n",
        "  def softmax(self,A):\n",
        "    expA = np.exp(A)\n",
        "    return expA / expA.sum(axis=1, keepdims=True)\n",
        "\n",
        "  def fit(self, X, y): #This function primarily calculates the optimal theta value using which we predict the future data\n",
        "\n",
        "    print(\"Fitting the given dataset..\")\n",
        "   \n",
        "    self.train_errors, self.val_errors = [], []\n",
        "    \n",
        "    X = np.insert(X, 0, 1, axis=1)\n",
        "  \n",
        "    encoder = OneHotEncoder(sparse=False)\n",
        "    onehot = encoder.fit_transform(y)\n",
        "    X, y = shuffle(X, onehot)\n",
        "    \n",
        "    for _ in range(self.n_iter):\n",
        "\n",
        "      m = y.shape[0]\n",
        "\n",
        "      # =========== Phase 1: Forward propagation\n",
        "      \n",
        "      z= X.dot(self.weights)\n",
        "      yhat= self.softmax(z)\n",
        "\n",
        "      error= yhat - y\n",
        "\n",
        "      # ============== calculate cross entropy for each example\n",
        "      \n",
        "      loss = (-1/m) * np.sum(y * np.log(yhat))\n",
        "\n",
        "      self.train_errors.append(loss)\n",
        "\n",
        "      # =========== Phase 2: Backpropagation\n",
        "\n",
        "      dE_dw= (1/m) * np.dot(X.T,error)\n",
        "        \n",
        "      self.weights -= self.alpha * dE_dw\n",
        "\n",
        "    return self\n",
        "\n",
        "  def predict(self, X): \n",
        "\n",
        "    X = np.insert(X, 0, 1, axis=1)\n",
        "    z= X.dot(self.weights)\n",
        "    yhat= self.softmax(z)\n",
        "    X_predicted= np.argmax(yhat, axis=1)\n",
        "    X_predicted +=1\n",
        "    X_predicted= X_predicted.reshape(-1,1)\n",
        "\n",
        "    return X_predicted\n",
        "\n",
        "  def score(self,X, y): #This function compares the predictd label with the actual label to find the model performance\n",
        "    score = sum(self.predict(X) == y) / len(y)\n",
        "    return score    \n",
        "\n",
        "  def plot_learning_curves(self, p1,p2):\n",
        "\n",
        "    font1 = {'family':'serif','color':'blue','size':20}\n",
        "    font2 = {'family':'serif','color':'darkred','size':15}\n",
        "\n",
        "    plt.plot(np.sqrt(p1), \"r\", label=\"train\")\n",
        "    plt.title('Softmax Activation',fontdict = font1)\n",
        "    plt.xlabel('Epochs', fontdict = font2)\n",
        "    plt.ylabel('RMSE', fontdict = font2)\n",
        "    plt.grid(True)\n",
        "    plt.legend()\n",
        "    plt.show()  "
      ],
      "execution_count": null,
      "outputs": []
    },
    {
      "cell_type": "code",
      "metadata": {
        "colab": {
          "base_uri": "https://localhost:8080/"
        },
        "id": "gqNLAx28_hQ0",
        "outputId": "aa380f43-a6db-44ba-a083-056014c322c7"
      },
      "source": [
        "logi2 = NeuralNetwork_MultiClass(n_iteration=2000).fit(X_train, y_train)"
      ],
      "execution_count": null,
      "outputs": [
        {
          "output_type": "stream",
          "name": "stdout",
          "text": [
            "Fitting the given dataset..\n"
          ]
        }
      ]
    },
    {
      "cell_type": "code",
      "metadata": {
        "colab": {
          "base_uri": "https://localhost:8080/",
          "height": 304
        },
        "id": "_QIOfzu3B-oN",
        "outputId": "2b355634-d0f0-4a98-9740-8e8881da0d85"
      },
      "source": [
        "logi2.plot_learning_curves(logi2.train_errors,logi2.val_errors)"
      ],
      "execution_count": null,
      "outputs": [
        {
          "output_type": "display_data",
          "data": {
            "image/png": "[encoded data removed]",
            "text/plain": [
              "<Figure size 432x288 with 1 Axes>"
            ]
          },
          "metadata": {
            "needs_background": "light"
          }
        }
      ]
    },
    {
      "cell_type": "code",
      "metadata": {
        "colab": {
          "base_uri": "https://localhost:8080/"
        },
        "id": "WtEGP_D0m_TH",
        "outputId": "2386fbf4-c724-45a4-c95f-4c501c5104d4"
      },
      "source": [
        "score = logi2.score(X_train,y_train)\n",
        "\n",
        "print(\"the accuracy of the model is \",score)"
      ],
      "execution_count": null,
      "outputs": [
        {
          "output_type": "stream",
          "name": "stdout",
          "text": [
            "the accuracy of the model is  [0.75625]\n"
          ]
        }
      ]
    },
    {
      "cell_type": "code",
      "metadata": {
        "colab": {
          "base_uri": "https://localhost:8080/"
        },
        "id": "7WltEwWbGyfd",
        "outputId": "73046cbe-3db0-47d3-cae4-015109d980c1"
      },
      "source": [
        "score = logi2.score(X_test,y_test)\n",
        "\n",
        "print(\"the accuracy of the model is \",score)"
      ],
      "execution_count": null,
      "outputs": [
        {
          "output_type": "stream",
          "name": "stdout",
          "text": [
            "the accuracy of the model is  [0.733125]\n"
          ]
        }
      ]
    },
    {
      "cell_type": "markdown",
      "metadata": {
        "id": "3lm0p397k2an"
      },
      "source": [
        "After running the code cell above, you should see that you get **75% training accuracy** and **73% accuracy on the test set**. Not bad for a simple neural network!"
      ]
    },
    {
      "cell_type": "code",
      "metadata": {
        "colab": {
          "base_uri": "https://localhost:8080/",
          "height": 532
        },
        "id": "zFXkf7mGHQx-",
        "outputId": "0cdf3747-e495-4bb5-cd87-a3cf5852cba3"
      },
      "source": [
        "from mlxtend.plotting import plot_confusion_matrix\n",
        "from sklearn.metrics import confusion_matrix\n",
        "\n",
        "conf_matrix = confusion_matrix(y_true=y_test, y_pred=predition)\n",
        "\n",
        "plot_confusion_matrix(conf_mat=conf_matrix, figsize=(8, 8), cmap=plt.cm.Greens)"
      ],
      "execution_count": null,
      "outputs": [
        {
          "output_type": "execute_result",
          "data": {
            "text/plain": [
              "(<Figure size 576x576 with 1 Axes>,\n",
              " <matplotlib.axes._subplots.AxesSubplot at 0x7fc99d04d850>)"
            ]
          },
          "metadata": {},
          "execution_count": 78
        },
        {
          "output_type": "display_data",
          "data": {
            "image/png": "[encoded data removed]",
            "text/plain": [
              "<Figure size 576x576 with 1 Axes>"
            ]
          },
          "metadata": {
            "needs_background": "light"
          }
        }
      ]
    }
  ]
}